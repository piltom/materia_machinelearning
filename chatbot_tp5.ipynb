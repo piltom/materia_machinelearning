{
  "nbformat": 4,
  "nbformat_minor": 0,
  "metadata": {
    "kernelspec": {
      "display_name": "Python 3",
      "language": "python",
      "name": "python3"
    },
    "language_info": {
      "codemirror_mode": {
        "name": "ipython",
        "version": 3
      },
      "file_extension": ".py",
      "mimetype": "text/x-python",
      "name": "python",
      "nbconvert_exporter": "python",
      "pygments_lexer": "ipython3",
      "version": "3.7.4"
    },
    "colab": {
      "name": "chatbot_tp5.ipynb",
      "provenance": [],
      "collapsed_sections": [],
      "include_colab_link": true
    }
  },
  "cells": [
    {
      "cell_type": "markdown",
      "metadata": {
        "id": "view-in-github",
        "colab_type": "text"
      },
      "source": [
        "<a href=\"https://colab.research.google.com/github/piltom/materia_machinelearning/blob/main/chatbot_tp5.ipynb\" target=\"_parent\"><img src=\"https://colab.research.google.com/assets/colab-badge.svg\" alt=\"Open In Colab\"/></a>"
      ]
    },
    {
      "cell_type": "markdown",
      "metadata": {
        "id": "Zja3JmHo5vxw"
      },
      "source": [
        "# Chatbot\n",
        "Un chatbot es un software inteligente que es capaz de comunicarse y realizar acciones similares a las de un humano. El objetivo de este proyecto es construir un modelo que prediga respuestas usando patrones y respuestas predefinidos. Se le proporciona un archivo llamado intents.json que contiene estos patrones. Los archivos de palabras y clases se proporcionan como ayuda adicional. Siéntase libre de hacer un bot más complejo extendiendo el archivo de intenciones. \n",
        "\n",
        "#### Possible chat with your bot\n",
        "<code>\n",
        "You: Hello, how are you? \n",
        "Bot: Hi there, how can I help?\n",
        "You: what can you do?\n",
        "Bot: I can guide you through Adverse drug reaction list, Blood pressure tracking, Hospitals and Pharmacies\n",
        "You: thanks\n",
        "Bot: My pleasure\n",
        "You: see ya. got to go!\n",
        "Bot: See you\n",
        "</code>"
      ]
    },
    {
      "cell_type": "markdown",
      "metadata": {
        "id": "F4vB29Unr-5m"
      },
      "source": [
        "# Solución\n",
        "Al archivo intents original se le agregaron más entradas en los patrones, para tener un poco más de datos para trabajar. Se intentó originalmente hacer clustering con los datos originales pero resultaban muy escasos y poco relacionados entre sí dentro de un mismo grupo. En otras palabras, dos elementos que deberían pertenecer a un mismo grupo se encontraban completamente separados."
      ]
    },
    {
      "cell_type": "code",
      "metadata": {
        "id": "wK5jGW7l5vxy"
      },
      "source": [
        "# Load json file with answer patterns\n",
        "import requests\n",
        "import json\n",
        "import pandas as pd\n",
        "\n",
        "intents = json.loads(requests.get(\"https://raw.githubusercontent.com/piltom/materia_machinelearning/main/intents.json\").text)\n",
        "intents_df=pd.DataFrame(intents['intents']).explode('patterns').dropna(subset=['patterns'])"
      ],
      "execution_count": 2,
      "outputs": []
    },
    {
      "cell_type": "markdown",
      "metadata": {
        "id": "tlZljRg94DV5"
      },
      "source": [
        "Primero se deben normalizar los datos de entrada, para esto se hacen tres cosas: Reemplazar por sinónimos, eliminar las comas y hacer \"stemming\". Esto último consiste en encontrar la raiz de una palabra, lo cual es útil para que, por ejemplo, una palabra en singular y otra en plurar no cuenten como dos características distintas. El reemplazo por sinónimos se hace de forma muy ineficiente, pero para este ejemplo no es un problema. Idealmente debería hacerse con un diccionario."
      ]
    },
    {
      "cell_type": "code",
      "metadata": {
        "id": "G9tlMQjSkU2F"
      },
      "source": [
        "from nltk.stem.snowball import SnowballStemmer\n",
        "\n",
        "stemmer = SnowballStemmer(\"english\")\n",
        "syn_lists=[[\"hi\", \"hello\", \"sup\", \"hey\",\"ciao\", \"hola\"],\n",
        "           [\"bye\", \"tschuss\", \"goodbye\"],\n",
        "           [\"help\", \"helpful\", \"support\"]]\n",
        "def replace_w_syn(y):\n",
        "  for syn_list in syn_lists:\n",
        "    if y.lower() in syn_list:\n",
        "      return syn_list[0]\n",
        "  return y\n",
        "\n",
        "intents_df['patterns_token']=intents_df['patterns'].apply(lambda x : filter(None,x.split(\" \")))\n",
        "\n",
        "intents_df['patterns_token']=intents_df['patterns_token'].apply(lambda x : [replace_w_syn(y.strip(\",\")) for y in x])\n",
        "\n",
        "intents_df['patterns_stemmed']=intents_df['patterns_token'].apply(lambda x : [stemmer.stem(y) for y in x])\n",
        "\n",
        "intents_df['patterns_stemmed_sentence']=intents_df['patterns_stemmed'].apply(lambda x : \" \".join(x))"
      ],
      "execution_count": 3,
      "outputs": []
    },
    {
      "cell_type": "markdown",
      "metadata": {
        "id": "hSFMRQkBROuI"
      },
      "source": [
        "Para extraer las características de los textos se calculan los valores TF-IDF, que son pesos asignados a las palabras en relacion a su frecuencia dentro de la oración e inversamente relacionado con la frecuencia media en todas las oraciones."
      ]
    },
    {
      "cell_type": "code",
      "metadata": {
        "id": "_faLwjw15vxy"
      },
      "source": [
        "from sklearn.feature_extraction.text import TfidfVectorizer\n",
        "\n",
        "extractor = TfidfVectorizer(stop_words=[\"the\",\"list\",\"is\", \"can\", \"you\",\"me\",\"open\",\"find\",\"is\", \"all\",\"for\",\"of\", \"nearby\", \"i\", \"how\", \"good\"])\n",
        "extractor.fit(intents_df.patterns_stemmed_sentence.values)\n",
        "features = extractor.transform(intents_df.patterns_stemmed_sentence.values)"
      ],
      "execution_count": 4,
      "outputs": []
    },
    {
      "cell_type": "markdown",
      "metadata": {
        "id": "cGl8xTwUY_iV"
      },
      "source": [
        "Usando estas features para entrenar un KMeans. Las posibles categorías son 9, sacando las categorías que no tienen patrones y que son para ingresar datos de búsqueda en el chat. Estas categorías no se implementaron ya que escapan la parte de clustering y tienen más que ver con la implementación de el chat en si.\n",
        "A continuación se puede ver el resultado del agrupamiento, junto con el texto de entrada y el texto procesado que se usó para extraer las features."
      ]
    },
    {
      "cell_type": "code",
      "metadata": {
        "colab": {
          "base_uri": "https://localhost:8080/",
          "height": 1000
        },
        "id": "HpedPXzyY85Z",
        "outputId": "ccc07819-afd2-428e-ef39-5bd389e095cb"
      },
      "source": [
        "from sklearn.cluster import KMeans\n",
        "\n",
        "clusterer = KMeans(9, random_state=15)\n",
        "arr=clusterer.fit_predict( features )\n",
        "resultados=pd.DataFrame({'cluster':arr, 'input':intents_df.patterns.values, 'procesada':intents_df.patterns_stemmed_sentence})\n",
        "resultados"
      ],
      "execution_count": 5,
      "outputs": [
        {
          "output_type": "execute_result",
          "data": {
            "text/html": [
              "<div>\n",
              "<style scoped>\n",
              "    .dataframe tbody tr th:only-of-type {\n",
              "        vertical-align: middle;\n",
              "    }\n",
              "\n",
              "    .dataframe tbody tr th {\n",
              "        vertical-align: top;\n",
              "    }\n",
              "\n",
              "    .dataframe thead th {\n",
              "        text-align: right;\n",
              "    }\n",
              "</style>\n",
              "<table border=\"1\" class=\"dataframe\">\n",
              "  <thead>\n",
              "    <tr style=\"text-align: right;\">\n",
              "      <th></th>\n",
              "      <th>cluster</th>\n",
              "      <th>input</th>\n",
              "      <th>procesada</th>\n",
              "    </tr>\n",
              "  </thead>\n",
              "  <tbody>\n",
              "    <tr>\n",
              "      <th>0</th>\n",
              "      <td>2</td>\n",
              "      <td>Hi there</td>\n",
              "      <td>hi there</td>\n",
              "    </tr>\n",
              "    <tr>\n",
              "      <th>0</th>\n",
              "      <td>8</td>\n",
              "      <td>How are you</td>\n",
              "      <td>how are you</td>\n",
              "    </tr>\n",
              "    <tr>\n",
              "      <th>0</th>\n",
              "      <td>2</td>\n",
              "      <td>Is anyone there?</td>\n",
              "      <td>is anyon there?</td>\n",
              "    </tr>\n",
              "    <tr>\n",
              "      <th>0</th>\n",
              "      <td>2</td>\n",
              "      <td>Hey</td>\n",
              "      <td>hi</td>\n",
              "    </tr>\n",
              "    <tr>\n",
              "      <th>0</th>\n",
              "      <td>2</td>\n",
              "      <td>Hola</td>\n",
              "      <td>hi</td>\n",
              "    </tr>\n",
              "    <tr>\n",
              "      <th>0</th>\n",
              "      <td>2</td>\n",
              "      <td>Hello</td>\n",
              "      <td>hi</td>\n",
              "    </tr>\n",
              "    <tr>\n",
              "      <th>0</th>\n",
              "      <td>2</td>\n",
              "      <td>Good day</td>\n",
              "      <td>good day</td>\n",
              "    </tr>\n",
              "    <tr>\n",
              "      <th>0</th>\n",
              "      <td>2</td>\n",
              "      <td>Hello, good day</td>\n",
              "      <td>hi good day</td>\n",
              "    </tr>\n",
              "    <tr>\n",
              "      <th>0</th>\n",
              "      <td>2</td>\n",
              "      <td>hi, good day</td>\n",
              "      <td>hi good day</td>\n",
              "    </tr>\n",
              "    <tr>\n",
              "      <th>0</th>\n",
              "      <td>8</td>\n",
              "      <td>Hi, How are you?</td>\n",
              "      <td>hi how are you?</td>\n",
              "    </tr>\n",
              "    <tr>\n",
              "      <th>1</th>\n",
              "      <td>7</td>\n",
              "      <td>Bye</td>\n",
              "      <td>bye</td>\n",
              "    </tr>\n",
              "    <tr>\n",
              "      <th>1</th>\n",
              "      <td>7</td>\n",
              "      <td>bye, See you later</td>\n",
              "      <td>bye see you later</td>\n",
              "    </tr>\n",
              "    <tr>\n",
              "      <th>1</th>\n",
              "      <td>7</td>\n",
              "      <td>Goodbye</td>\n",
              "      <td>bye</td>\n",
              "    </tr>\n",
              "    <tr>\n",
              "      <th>1</th>\n",
              "      <td>7</td>\n",
              "      <td>Nice chatting to you, bye</td>\n",
              "      <td>nice chat to you bye</td>\n",
              "    </tr>\n",
              "    <tr>\n",
              "      <th>1</th>\n",
              "      <td>7</td>\n",
              "      <td>Bye, Till next time</td>\n",
              "      <td>bye till next time</td>\n",
              "    </tr>\n",
              "    <tr>\n",
              "      <th>1</th>\n",
              "      <td>7</td>\n",
              "      <td>see you, bye</td>\n",
              "      <td>see you bye</td>\n",
              "    </tr>\n",
              "    <tr>\n",
              "      <th>1</th>\n",
              "      <td>7</td>\n",
              "      <td>Goodbye, see you</td>\n",
              "      <td>bye see you</td>\n",
              "    </tr>\n",
              "    <tr>\n",
              "      <th>1</th>\n",
              "      <td>7</td>\n",
              "      <td>bye goodbye</td>\n",
              "      <td>bye bye</td>\n",
              "    </tr>\n",
              "    <tr>\n",
              "      <th>2</th>\n",
              "      <td>3</td>\n",
              "      <td>Thanks</td>\n",
              "      <td>thank</td>\n",
              "    </tr>\n",
              "    <tr>\n",
              "      <th>2</th>\n",
              "      <td>3</td>\n",
              "      <td>Thank you</td>\n",
              "      <td>thank you</td>\n",
              "    </tr>\n",
              "    <tr>\n",
              "      <th>2</th>\n",
              "      <td>3</td>\n",
              "      <td>That's helpful</td>\n",
              "      <td>that help</td>\n",
              "    </tr>\n",
              "    <tr>\n",
              "      <th>2</th>\n",
              "      <td>3</td>\n",
              "      <td>Awesome, thanks</td>\n",
              "      <td>awesom thank</td>\n",
              "    </tr>\n",
              "    <tr>\n",
              "      <th>2</th>\n",
              "      <td>3</td>\n",
              "      <td>Thanks for helping me</td>\n",
              "      <td>thank for help me</td>\n",
              "    </tr>\n",
              "    <tr>\n",
              "      <th>2</th>\n",
              "      <td>3</td>\n",
              "      <td>Thank you for being so helpful</td>\n",
              "      <td>thank you for be so help</td>\n",
              "    </tr>\n",
              "    <tr>\n",
              "      <th>4</th>\n",
              "      <td>3</td>\n",
              "      <td>How can you help me?</td>\n",
              "      <td>how can you help me?</td>\n",
              "    </tr>\n",
              "    <tr>\n",
              "      <th>4</th>\n",
              "      <td>5</td>\n",
              "      <td>What can you do?</td>\n",
              "      <td>what can you do?</td>\n",
              "    </tr>\n",
              "    <tr>\n",
              "      <th>4</th>\n",
              "      <td>5</td>\n",
              "      <td>What help do you provide?</td>\n",
              "      <td>what help do you provide?</td>\n",
              "    </tr>\n",
              "    <tr>\n",
              "      <th>4</th>\n",
              "      <td>3</td>\n",
              "      <td>How can you be helpful?</td>\n",
              "      <td>how can you be helpful?</td>\n",
              "    </tr>\n",
              "    <tr>\n",
              "      <th>4</th>\n",
              "      <td>5</td>\n",
              "      <td>What support is offered</td>\n",
              "      <td>what help is offer</td>\n",
              "    </tr>\n",
              "    <tr>\n",
              "      <th>4</th>\n",
              "      <td>8</td>\n",
              "      <td>what are you?</td>\n",
              "      <td>what are you?</td>\n",
              "    </tr>\n",
              "    <tr>\n",
              "      <th>4</th>\n",
              "      <td>5</td>\n",
              "      <td>what is your purpose?</td>\n",
              "      <td>what is your purpose?</td>\n",
              "    </tr>\n",
              "    <tr>\n",
              "      <th>5</th>\n",
              "      <td>0</td>\n",
              "      <td>How to check Adverse drug reaction?</td>\n",
              "      <td>how to check advers drug reaction?</td>\n",
              "    </tr>\n",
              "    <tr>\n",
              "      <th>5</th>\n",
              "      <td>0</td>\n",
              "      <td>Open adverse drugs module</td>\n",
              "      <td>open advers drug modul</td>\n",
              "    </tr>\n",
              "    <tr>\n",
              "      <th>5</th>\n",
              "      <td>0</td>\n",
              "      <td>Give me a list of drugs causing adverse behavior</td>\n",
              "      <td>give me a list of drug caus advers behavior</td>\n",
              "    </tr>\n",
              "    <tr>\n",
              "      <th>5</th>\n",
              "      <td>0</td>\n",
              "      <td>List all drugs suitable for patient with adver...</td>\n",
              "      <td>list all drug suitabl for patient with advers ...</td>\n",
              "    </tr>\n",
              "    <tr>\n",
              "      <th>5</th>\n",
              "      <td>0</td>\n",
              "      <td>Which drugs dont have adverse reaction?</td>\n",
              "      <td>which drug dont have advers reaction?</td>\n",
              "    </tr>\n",
              "    <tr>\n",
              "      <th>6</th>\n",
              "      <td>1</td>\n",
              "      <td>Open blood pressure module</td>\n",
              "      <td>open blood pressur modul</td>\n",
              "    </tr>\n",
              "    <tr>\n",
              "      <th>6</th>\n",
              "      <td>1</td>\n",
              "      <td>Task related to blood pressure</td>\n",
              "      <td>task relat to blood pressur</td>\n",
              "    </tr>\n",
              "    <tr>\n",
              "      <th>6</th>\n",
              "      <td>1</td>\n",
              "      <td>Blood pressure data entry</td>\n",
              "      <td>blood pressur data entri</td>\n",
              "    </tr>\n",
              "    <tr>\n",
              "      <th>6</th>\n",
              "      <td>1</td>\n",
              "      <td>I want to log blood pressure results</td>\n",
              "      <td>i want to log blood pressur result</td>\n",
              "    </tr>\n",
              "    <tr>\n",
              "      <th>6</th>\n",
              "      <td>1</td>\n",
              "      <td>Blood pressure data management</td>\n",
              "      <td>blood pressur data manag</td>\n",
              "    </tr>\n",
              "    <tr>\n",
              "      <th>7</th>\n",
              "      <td>1</td>\n",
              "      <td>I want to search for blood pressure result his...</td>\n",
              "      <td>i want to search for blood pressur result histori</td>\n",
              "    </tr>\n",
              "    <tr>\n",
              "      <th>7</th>\n",
              "      <td>1</td>\n",
              "      <td>Blood pressure for patient</td>\n",
              "      <td>blood pressur for patient</td>\n",
              "    </tr>\n",
              "    <tr>\n",
              "      <th>7</th>\n",
              "      <td>1</td>\n",
              "      <td>Load patient blood pressure result</td>\n",
              "      <td>load patient blood pressur result</td>\n",
              "    </tr>\n",
              "    <tr>\n",
              "      <th>7</th>\n",
              "      <td>1</td>\n",
              "      <td>Show blood pressure results for patient</td>\n",
              "      <td>show blood pressur result for patient</td>\n",
              "    </tr>\n",
              "    <tr>\n",
              "      <th>7</th>\n",
              "      <td>1</td>\n",
              "      <td>Find blood pressure results by ID</td>\n",
              "      <td>find blood pressur result by id</td>\n",
              "    </tr>\n",
              "    <tr>\n",
              "      <th>9</th>\n",
              "      <td>4</td>\n",
              "      <td>Find me a pharmacy</td>\n",
              "      <td>find me a pharmaci</td>\n",
              "    </tr>\n",
              "    <tr>\n",
              "      <th>9</th>\n",
              "      <td>4</td>\n",
              "      <td>Find pharmacy</td>\n",
              "      <td>find pharmaci</td>\n",
              "    </tr>\n",
              "    <tr>\n",
              "      <th>9</th>\n",
              "      <td>4</td>\n",
              "      <td>List of pharmacies nearby</td>\n",
              "      <td>list of pharmaci nearbi</td>\n",
              "    </tr>\n",
              "    <tr>\n",
              "      <th>9</th>\n",
              "      <td>4</td>\n",
              "      <td>Locate pharmacy</td>\n",
              "      <td>locat pharmaci</td>\n",
              "    </tr>\n",
              "    <tr>\n",
              "      <th>9</th>\n",
              "      <td>4</td>\n",
              "      <td>Search pharmacy</td>\n",
              "      <td>search pharmaci</td>\n",
              "    </tr>\n",
              "    <tr>\n",
              "      <th>11</th>\n",
              "      <td>6</td>\n",
              "      <td>Lookup for hospital</td>\n",
              "      <td>lookup for hospit</td>\n",
              "    </tr>\n",
              "    <tr>\n",
              "      <th>11</th>\n",
              "      <td>6</td>\n",
              "      <td>Searching for hospital to transfer patient</td>\n",
              "      <td>search for hospit to transfer patient</td>\n",
              "    </tr>\n",
              "    <tr>\n",
              "      <th>11</th>\n",
              "      <td>6</td>\n",
              "      <td>I want to search hospital data</td>\n",
              "      <td>i want to search hospit data</td>\n",
              "    </tr>\n",
              "    <tr>\n",
              "      <th>11</th>\n",
              "      <td>6</td>\n",
              "      <td>Hospital lookup for patient</td>\n",
              "      <td>hospit lookup for patient</td>\n",
              "    </tr>\n",
              "    <tr>\n",
              "      <th>11</th>\n",
              "      <td>6</td>\n",
              "      <td>Looking up hospital details</td>\n",
              "      <td>look up hospit detail</td>\n",
              "    </tr>\n",
              "  </tbody>\n",
              "</table>\n",
              "</div>"
            ],
            "text/plain": [
              "    cluster  ...                                          procesada\n",
              "0         2  ...                                           hi there\n",
              "0         8  ...                                        how are you\n",
              "0         2  ...                                    is anyon there?\n",
              "0         2  ...                                                 hi\n",
              "0         2  ...                                                 hi\n",
              "0         2  ...                                                 hi\n",
              "0         2  ...                                           good day\n",
              "0         2  ...                                        hi good day\n",
              "0         2  ...                                        hi good day\n",
              "0         8  ...                                    hi how are you?\n",
              "1         7  ...                                                bye\n",
              "1         7  ...                                  bye see you later\n",
              "1         7  ...                                                bye\n",
              "1         7  ...                               nice chat to you bye\n",
              "1         7  ...                                 bye till next time\n",
              "1         7  ...                                        see you bye\n",
              "1         7  ...                                        bye see you\n",
              "1         7  ...                                            bye bye\n",
              "2         3  ...                                              thank\n",
              "2         3  ...                                          thank you\n",
              "2         3  ...                                          that help\n",
              "2         3  ...                                       awesom thank\n",
              "2         3  ...                                  thank for help me\n",
              "2         3  ...                           thank you for be so help\n",
              "4         3  ...                               how can you help me?\n",
              "4         5  ...                                   what can you do?\n",
              "4         5  ...                          what help do you provide?\n",
              "4         3  ...                            how can you be helpful?\n",
              "4         5  ...                                 what help is offer\n",
              "4         8  ...                                      what are you?\n",
              "4         5  ...                              what is your purpose?\n",
              "5         0  ...                 how to check advers drug reaction?\n",
              "5         0  ...                             open advers drug modul\n",
              "5         0  ...        give me a list of drug caus advers behavior\n",
              "5         0  ...  list all drug suitabl for patient with advers ...\n",
              "5         0  ...              which drug dont have advers reaction?\n",
              "6         1  ...                           open blood pressur modul\n",
              "6         1  ...                        task relat to blood pressur\n",
              "6         1  ...                           blood pressur data entri\n",
              "6         1  ...                 i want to log blood pressur result\n",
              "6         1  ...                           blood pressur data manag\n",
              "7         1  ...  i want to search for blood pressur result histori\n",
              "7         1  ...                          blood pressur for patient\n",
              "7         1  ...                  load patient blood pressur result\n",
              "7         1  ...              show blood pressur result for patient\n",
              "7         1  ...                    find blood pressur result by id\n",
              "9         4  ...                                 find me a pharmaci\n",
              "9         4  ...                                      find pharmaci\n",
              "9         4  ...                            list of pharmaci nearbi\n",
              "9         4  ...                                     locat pharmaci\n",
              "9         4  ...                                    search pharmaci\n",
              "11        6  ...                                  lookup for hospit\n",
              "11        6  ...              search for hospit to transfer patient\n",
              "11        6  ...                       i want to search hospit data\n",
              "11        6  ...                          hospit lookup for patient\n",
              "11        6  ...                              look up hospit detail\n",
              "\n",
              "[56 rows x 3 columns]"
            ]
          },
          "metadata": {
            "tags": []
          },
          "execution_count": 5
        }
      ]
    },
    {
      "cell_type": "markdown",
      "metadata": {
        "id": "l3pnQJPx5xOc"
      },
      "source": [
        "Este clustering da como resultado una homogeneidad de 88.9%"
      ]
    },
    {
      "cell_type": "code",
      "metadata": {
        "colab": {
          "base_uri": "https://localhost:8080/"
        },
        "id": "0r-7rb9laHKh",
        "outputId": "6eea272a-cb99-4da4-bc4b-4e2ecd958e9c"
      },
      "source": [
        "from sklearn.metrics import homogeneity_score, completeness_score, v_measure_score\n",
        "homogeneity_score(intents_df.tag, clusterer.predict(features))"
      ],
      "execution_count": 6,
      "outputs": [
        {
          "output_type": "execute_result",
          "data": {
            "text/plain": [
              "0.8898914776075445"
            ]
          },
          "metadata": {
            "tags": []
          },
          "execution_count": 6
        }
      ]
    },
    {
      "cell_type": "markdown",
      "metadata": {
        "id": "xNJtCXIZ6WLS"
      },
      "source": [
        "Y un score de completitud de 90.2%"
      ]
    },
    {
      "cell_type": "code",
      "metadata": {
        "colab": {
          "base_uri": "https://localhost:8080/"
        },
        "id": "zFPTUi7d6C_3",
        "outputId": "9d11b269-f58a-421e-ca6d-84089d99421f"
      },
      "source": [
        "completeness_score(intents_df.tag, clusterer.predict(features))"
      ],
      "execution_count": 7,
      "outputs": [
        {
          "output_type": "execute_result",
          "data": {
            "text/plain": [
              "0.9021467187485696"
            ]
          },
          "metadata": {
            "tags": []
          },
          "execution_count": 7
        }
      ]
    },
    {
      "cell_type": "markdown",
      "metadata": {
        "id": "nn1zTela6mN8"
      },
      "source": [
        "El V-measure da entonces 89.5%"
      ]
    },
    {
      "cell_type": "code",
      "metadata": {
        "colab": {
          "base_uri": "https://localhost:8080/"
        },
        "id": "YAz5l83Y6gMu",
        "outputId": "e60445d9-8a19-4c33-ff12-70e4904e2b98"
      },
      "source": [
        "v_measure_score(intents_df.tag, clusterer.predict(features))"
      ],
      "execution_count": 8,
      "outputs": [
        {
          "output_type": "execute_result",
          "data": {
            "text/plain": [
              "0.895977193118296"
            ]
          },
          "metadata": {
            "tags": []
          },
          "execution_count": 8
        }
      ]
    },
    {
      "cell_type": "markdown",
      "metadata": {
        "id": "SqqjKwTw7HC-"
      },
      "source": [
        "# Relacionando las etiquetas con los clusters\n"
      ]
    },
    {
      "cell_type": "markdown",
      "metadata": {
        "id": "xDE5SG6gSgLX"
      },
      "source": [
        "Para identificar cada cluster con las etiquetas originales, se toma de cada cluster las frases que lo componen y se elige la etiqueta predominante."
      ]
    },
    {
      "cell_type": "code",
      "metadata": {
        "colab": {
          "base_uri": "https://localhost:8080/"
        },
        "id": "c2cZqqW8SyQx",
        "outputId": "f997f5aa-5589-4b1e-ddbd-057db01bf85b"
      },
      "source": [
        "grouped=resultados.groupby('cluster')\n",
        "cluster_tags=[]\n",
        "for cluster_num, group in grouped:\n",
        "  print(cluster_num)\n",
        "  print(intents_df.tag[intents_df.patterns.isin(group['input'].values)].value_counts().idxmax())\n",
        "  cluster_tags.append(intents_df.tag[intents_df.patterns.isin(group['input'].values)].value_counts().idxmax())\n"
      ],
      "execution_count": 17,
      "outputs": [
        {
          "output_type": "stream",
          "text": [
            "0\n",
            "adverse_drug\n",
            "1\n",
            "blood_pressure_search\n",
            "2\n",
            "greeting\n",
            "3\n",
            "thanks\n",
            "4\n",
            "pharmacy_search\n",
            "5\n",
            "options\n",
            "6\n",
            "hospital_search\n",
            "7\n",
            "goodbye\n",
            "8\n",
            "greeting\n"
          ],
          "name": "stdout"
        }
      ]
    },
    {
      "cell_type": "markdown",
      "metadata": {
        "id": "2mEYLC0cWYJT"
      },
      "source": [
        "# Chat de prueba\n"
      ]
    },
    {
      "cell_type": "code",
      "metadata": {
        "id": "u-4waKtdadNM"
      },
      "source": [
        "import random\n",
        "def process_input(x):\n",
        "  return \" \".join([stemmer.stem(y) for y in [replace_w_syn(y) for y in x.split(\" \")]])\n",
        "def get_reply(x):\n",
        " tag=cluster_tags[(clusterer.predict(extractor.transform([process_input(y) for y in x])))[0]]\n",
        " for intent in intents['intents']:\n",
        "   if intent['tag']==tag:\n",
        "     return intent['responses'][random.randint(0, len(intent['responses'])-1)]\n"
      ],
      "execution_count": 27,
      "outputs": []
    },
    {
      "cell_type": "markdown",
      "metadata": {
        "id": "wgPPZpPqY0Ek"
      },
      "source": [
        "Hey, how are you?"
      ]
    },
    {
      "cell_type": "code",
      "metadata": {
        "colab": {
          "base_uri": "https://localhost:8080/"
        },
        "id": "O5WU639pY4az",
        "outputId": "f038e674-677f-4597-fe71-f36ba67ce83c"
      },
      "source": [
        "print(get_reply([\"Hey, how are you?\"]))"
      ],
      "execution_count": 29,
      "outputs": [
        {
          "output_type": "stream",
          "text": [
            "Good to see you again\n"
          ],
          "name": "stdout"
        }
      ]
    },
    {
      "cell_type": "markdown",
      "metadata": {
        "id": "VnYyn23VY9Wg"
      },
      "source": [
        "What is it that you do?"
      ]
    },
    {
      "cell_type": "code",
      "metadata": {
        "colab": {
          "base_uri": "https://localhost:8080/"
        },
        "id": "-CTgJLMyY_vM",
        "outputId": "108009b6-3a34-4aeb-e47b-417a1d4716a6"
      },
      "source": [
        "print(get_reply([\"What is it that you do?\"]))"
      ],
      "execution_count": 30,
      "outputs": [
        {
          "output_type": "stream",
          "text": [
            "I can guide you through Adverse drug reaction list, Blood pressure tracking, Hospitals and Pharmacies\n"
          ],
          "name": "stdout"
        }
      ]
    },
    {
      "cell_type": "markdown",
      "metadata": {
        "id": "loqyhSPEZGAr"
      },
      "source": [
        "I would like to track my blood pressure"
      ]
    },
    {
      "cell_type": "code",
      "metadata": {
        "colab": {
          "base_uri": "https://localhost:8080/"
        },
        "id": "Q0CzAtNWZKL3",
        "outputId": "deb9e75a-eacd-48db-b639-58bd31ae4928"
      },
      "source": [
        "print(get_reply([\"I would like to track my blood pressure\"]))"
      ],
      "execution_count": 33,
      "outputs": [
        {
          "output_type": "stream",
          "text": [
            "Please provide Patient ID\n"
          ],
          "name": "stdout"
        }
      ]
    },
    {
      "cell_type": "markdown",
      "metadata": {
        "id": "vIxDkbyiZXVQ"
      },
      "source": [
        "...\n",
        "\n",
        "*procesar la id y dar resultado no está implementado*\n",
        "\n",
        "...\n",
        "\n",
        "Thanks for your help"
      ]
    },
    {
      "cell_type": "code",
      "metadata": {
        "colab": {
          "base_uri": "https://localhost:8080/"
        },
        "id": "Z3Zl8XAvZY8k",
        "outputId": "041d220b-70fb-4d10-8fa3-8e0d37e3bd38"
      },
      "source": [
        "print(get_reply([\"Thanks for your help\"]))"
      ],
      "execution_count": 34,
      "outputs": [
        {
          "output_type": "stream",
          "text": [
            "Any time!\n"
          ],
          "name": "stdout"
        }
      ]
    },
    {
      "cell_type": "markdown",
      "metadata": {
        "id": "ulwVLS79Zuh9"
      },
      "source": [
        "Bye, have a good day"
      ]
    },
    {
      "cell_type": "code",
      "metadata": {
        "colab": {
          "base_uri": "https://localhost:8080/"
        },
        "id": "AcdDQalIZqEQ",
        "outputId": "9eee91b5-0c56-44d2-d2ff-16372c007e9e"
      },
      "source": [
        "print(get_reply([\"Bye, have a good day\"]))"
      ],
      "execution_count": 35,
      "outputs": [
        {
          "output_type": "stream",
          "text": [
            "See you!\n"
          ],
          "name": "stdout"
        }
      ]
    },
    {
      "cell_type": "markdown",
      "metadata": {
        "id": "qvYKsut2Z4NN"
      },
      "source": [
        "# Fallas\n",
        "Hay dos categorías que se combinaron en una, la categoría \"blood_pressure_search\" y la \"blood_pressure\". Estas dos categorías están muy superpuestas en el espacio de palabras, por lo que el algoritmo no puede diferenciarlas. En realidad, originalmente la categoría \"blood_pressure_search\" no debería ser una posiblidad, ya que a su contexto se accede desde una respuesta a la categoría \"blood_pressure\". En este ejemplo no se implementaron contextos, por lo que pasa lo que pasa.\n",
        "\n",
        "Por la poca cantidad de patrones que se tienen, es difícil que el algoritmo relacione frases que significan lo mismo pero tienen pocas o ninguna palabra en común.\n",
        "\n",
        "El chatbot está incompleto, ya que la parte de contexto no está implementada. Eso ayudaría a generar un árbol de posibles intenciones, que seguramente afinaría más el criterio de selección (si estoy buscando hospitales y todavía no tengo resultado, sería raro que pregunte por otra cosa)."
      ]
    }
  ]
}