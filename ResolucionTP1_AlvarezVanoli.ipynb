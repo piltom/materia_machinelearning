{
  "nbformat": 4,
  "nbformat_minor": 0,
  "metadata": {
    "colab": {
      "name": "ResolucionTP1_AlvarezVanoli.ipynb",
      "provenance": [],
      "collapsed_sections": [],
      "authorship_tag": "ABX9TyMExCc8ugDw1ofbHxVRDJY1",
      "include_colab_link": true
    },
    "kernelspec": {
      "name": "python3",
      "display_name": "Python 3"
    }
  },
  "cells": [
    {
      "cell_type": "markdown",
      "metadata": {
        "id": "view-in-github",
        "colab_type": "text"
      },
      "source": [
        "<a href=\"https://colab.research.google.com/github/piltom/materia_machinelearning/blob/main/ResolucionTP1_AlvarezVanoli.ipynb\" target=\"_parent\"><img src=\"https://colab.research.google.com/assets/colab-badge.svg\" alt=\"Open In Colab\"/></a>"
      ]
    },
    {
      "cell_type": "markdown",
      "metadata": {
        "id": "Z_aT4dNKMLov"
      },
      "source": [
        "# Resolución TP1\n",
        "Una alternativa para clasificar los datos nuevos es considerar a las distribuciones como funciones de x o y. Para esto, dependiendo de cual considere la variable independiente (mirando la suryectividad de la función), remuevo los outliers. Después calculo la varianza en la diferencia entre valores sucesivos de la variable dependiente. Si la varianza es alta, es una funcion que se comporta más \"aleatoriamente\", por lo que para ver que punto pertenece más a ese conjunto, me fijo en el punto que menos modifique esa varianza intermuestra. Si la varianza es baja, es posible que se trate de una función polinomial o suave al menos, por lo que me fijo entre la diferencia de la derivada anterior al punto nuevo y la derivada en el punto nuevo si se añadiese donde corresponde."
      ]
    },
    {
      "cell_type": "code",
      "metadata": {
        "id": "svveaW6dLQjD",
        "outputId": "0f3cd206-3058-48f7-cd71-23e258fd43ae",
        "colab": {
          "base_uri": "https://localhost:8080/",
          "height": 175
        }
      },
      "source": [
        "import pandas as pd          # import pandas\n",
        "import seaborn as sns        # import seaborn, we will be using anscombe dataset and sns.FacetGrid\n",
        "import numpy as np\n",
        "from sklearn.linear_model import LinearRegression\n",
        "from sklearn.model_selection import KFold, GroupKFold\n",
        "import matplotlib.pyplot as plt  # import pyplot to create scatter plots\n",
        "from scipy import stats #to use zscore\n",
        "\n",
        "\n",
        "pd.set_option(\"max_rows\", 8)              # only display up to 8 rows when printing dataframes (reduce visual clutter)\n",
        "anscome_df = sns.load_dataset(\"anscombe\") # load anscombe dataset from seaborn\n",
        "anscome_df['x'] = anscome_df['x'].astype(float)\n",
        "anscome_df['y'] = anscome_df['y'].astype(float)\n",
        "\n",
        "grouped = anscome_df.groupby('dataset')   #agrupo por dataset\n",
        "\n",
        "datos = pd.DataFrame(np.array([[16, 8], [8,6], [16,10], [16, 6]]), columns=['x', 'y']) #datos a introducir\n",
        "datos"
      ],
      "execution_count": 2,
      "outputs": [
        {
          "output_type": "execute_result",
          "data": {
            "text/html": [
              "<div>\n",
              "<style scoped>\n",
              "    .dataframe tbody tr th:only-of-type {\n",
              "        vertical-align: middle;\n",
              "    }\n",
              "\n",
              "    .dataframe tbody tr th {\n",
              "        vertical-align: top;\n",
              "    }\n",
              "\n",
              "    .dataframe thead th {\n",
              "        text-align: right;\n",
              "    }\n",
              "</style>\n",
              "<table border=\"1\" class=\"dataframe\">\n",
              "  <thead>\n",
              "    <tr style=\"text-align: right;\">\n",
              "      <th></th>\n",
              "      <th>x</th>\n",
              "      <th>y</th>\n",
              "    </tr>\n",
              "  </thead>\n",
              "  <tbody>\n",
              "    <tr>\n",
              "      <th>0</th>\n",
              "      <td>16</td>\n",
              "      <td>8</td>\n",
              "    </tr>\n",
              "    <tr>\n",
              "      <th>1</th>\n",
              "      <td>8</td>\n",
              "      <td>6</td>\n",
              "    </tr>\n",
              "    <tr>\n",
              "      <th>2</th>\n",
              "      <td>16</td>\n",
              "      <td>10</td>\n",
              "    </tr>\n",
              "    <tr>\n",
              "      <th>3</th>\n",
              "      <td>16</td>\n",
              "      <td>6</td>\n",
              "    </tr>\n",
              "  </tbody>\n",
              "</table>\n",
              "</div>"
            ],
            "text/plain": [
              "    x   y\n",
              "0  16   8\n",
              "1   8   6\n",
              "2  16  10\n",
              "3  16   6"
            ]
          },
          "metadata": {
            "tags": []
          },
          "execution_count": 2
        }
      ]
    },
    {
      "cell_type": "markdown",
      "metadata": {
        "id": "17_fR215z-AP"
      },
      "source": [
        "Luego para cada set y para cada punto se realizan las cuentas descritas al principio:"
      ]
    },
    {
      "cell_type": "code",
      "metadata": {
        "id": "e6rLR9mVz9Xv",
        "outputId": "ec89816f-a523-48f6-c7d6-6233bf1d1e33",
        "colab": {
          "base_uri": "https://localhost:8080/",
          "height": 175
        }
      },
      "source": [
        "metrics_wp = []   #simscore para cada punto contra cada dataset\n",
        "for key in grouped.groups.keys():\n",
        "    data = grouped.get_group(key)\n",
        "    inverted = False    #flag si inverti la funcion\n",
        "    if len(np.unique(data['x'].values))==len(data['x'].values): #si es funcion suryectiva de x\n",
        "      data = data.sort_values(by='x')\n",
        "      not_outliers= list(map(lambda x: np.abs(x) < 2.5, stats.zscore(data['y'])))  #saco los outliers, 2.5 desviaciones de la media\n",
        "      X_x = data['x'].values[not_outliers]\n",
        "      y_x = data['y'].values[not_outliers]\n",
        "      X_new= datos['x'].values\n",
        "      y_new= datos['y'].values\n",
        "    else:     #sino invierto la funcion (puede fallar al no ser suryectiva en y, aunque no con estos conjuntos)\n",
        "      inverted = True\n",
        "      data = data.sort_values(by='y')\n",
        "      not_outliers= list(map(lambda x: np.abs(x) < 2.5, stats.zscore(data['x'])))\n",
        "      X_x = data['y'].values[not_outliers]\n",
        "      y_x = data['x'].values[not_outliers]\n",
        "      X_new= datos['y'].values\n",
        "      y_new= datos['x'].values\n",
        "    dx = X_x[1:]-X_x[:-1]\n",
        "    dy = y_x[1:]-y_x[:-1]\n",
        "    dy_var  = np.var(dy)\n",
        "    for i in range(len(X_new)):\n",
        "      new_idx=np.searchsorted(X_x,X_new[i])\n",
        "      prev_derivative=(y_x[new_idx-1]-y_x[new_idx-2])/(X_x[new_idx-1]-X_x[new_idx-2])\n",
        "      derivative=(y_new[i]-y_x[new_idx-1])/(X_new[i]-X_x[new_idx-1])\n",
        "      dy_var_wp=np.var(np.append(dy,y_new[i]-y_x[new_idx-1]))\n",
        "      if dy_var>1:\n",
        "        sim_score = abs(dy_var-dy_var_wp)   #Si tiene grandes saltos, clasifico por varianza\n",
        "      else:\n",
        "        sim_score = abs(derivative-prev_derivative)  #sino por suavidad (derivadas)\n",
        "      if not inverted:\n",
        "        metrics_wp.append({'x':X_new[i], 'y':y_new[i],'dataset':key,'sim_score':sim_score })\n",
        "      else:\n",
        "        metrics_wp.append({'x':y_new[i], 'y':X_new[i],'dataset':key,'sim_score':sim_score })\n",
        "\n",
        "metrics_df= pd.DataFrame(metrics_wp)\n",
        "grouped_metrics = metrics_df.groupby('dataset')   #agrupo por dataset\n",
        "metrics_df.iloc[grouped_metrics['sim_score'].idxmin().values]"
      ],
      "execution_count": 48,
      "outputs": [
        {
          "output_type": "execute_result",
          "data": {
            "text/html": [
              "<div>\n",
              "<style scoped>\n",
              "    .dataframe tbody tr th:only-of-type {\n",
              "        vertical-align: middle;\n",
              "    }\n",
              "\n",
              "    .dataframe tbody tr th {\n",
              "        vertical-align: top;\n",
              "    }\n",
              "\n",
              "    .dataframe thead th {\n",
              "        text-align: right;\n",
              "    }\n",
              "</style>\n",
              "<table border=\"1\" class=\"dataframe\">\n",
              "  <thead>\n",
              "    <tr style=\"text-align: right;\">\n",
              "      <th></th>\n",
              "      <th>x</th>\n",
              "      <th>y</th>\n",
              "      <th>dataset</th>\n",
              "      <th>sim_score</th>\n",
              "    </tr>\n",
              "  </thead>\n",
              "  <tbody>\n",
              "    <tr>\n",
              "      <th>0</th>\n",
              "      <td>16</td>\n",
              "      <td>8</td>\n",
              "      <td>I</td>\n",
              "      <td>0.180609</td>\n",
              "    </tr>\n",
              "    <tr>\n",
              "      <th>7</th>\n",
              "      <td>16</td>\n",
              "      <td>6</td>\n",
              "      <td>II</td>\n",
              "      <td>0.410000</td>\n",
              "    </tr>\n",
              "    <tr>\n",
              "      <th>10</th>\n",
              "      <td>16</td>\n",
              "      <td>10</td>\n",
              "      <td>III</td>\n",
              "      <td>0.235000</td>\n",
              "    </tr>\n",
              "    <tr>\n",
              "      <th>13</th>\n",
              "      <td>8</td>\n",
              "      <td>6</td>\n",
              "      <td>IV</td>\n",
              "      <td>0.000000</td>\n",
              "    </tr>\n",
              "  </tbody>\n",
              "</table>\n",
              "</div>"
            ],
            "text/plain": [
              "     x   y dataset  sim_score\n",
              "0   16   8       I   0.180609\n",
              "7   16   6      II   0.410000\n",
              "10  16  10     III   0.235000\n",
              "13   8   6      IV   0.000000"
            ]
          },
          "metadata": {
            "tags": []
          },
          "execution_count": 48
        }
      ]
    },
    {
      "cell_type": "markdown",
      "metadata": {
        "id": "ggmxF9lX0fpb"
      },
      "source": [
        "Añadidos a los nuevos puntos a cada set, los gráficos resultan:"
      ]
    },
    {
      "cell_type": "code",
      "metadata": {
        "id": "xPGiahpa025L",
        "outputId": "824385be-6dd4-466b-f000-9e0d16b9f7b7",
        "colab": {
          "base_uri": "https://localhost:8080/",
          "height": 444
        }
      },
      "source": [
        "clasif_df = metrics_df.iloc[grouped_metrics['sim_score'].idxmin().values].drop('sim_score', axis=1)\n",
        "anscome_solved_df=pd.concat([anscome_df,clasif_df], ignore_index=True)\n",
        "\n",
        "sns.set(style=\"ticks\")\n",
        "g1 = sns.FacetGrid(anscome_df, col=\"dataset\", hue=\"dataset\") # define a grid of plots. Each element shows a different memeber from the quartet in a different column and color\n",
        "\n",
        "g2 = sns.FacetGrid(anscome_solved_df, col=\"dataset\", hue=\"dataset\") # define a grid of plots. Each element shows a different memeber from the quartet in a different column and color\n",
        "g1.map(plt.scatter, \"x\", \"y\", alpha=.7)                      # render scatterplots\n",
        "g2.map(plt.scatter, \"x\", \"y\", alpha=.7)                      # render scatterplots"
      ],
      "execution_count": 47,
      "outputs": [
        {
          "output_type": "execute_result",
          "data": {
            "text/plain": [
              "<seaborn.axisgrid.FacetGrid at 0x7f77dabf1128>"
            ]
          },
          "metadata": {
            "tags": []
          },
          "execution_count": 47
        },
        {
          "output_type": "display_data",
          "data": {
            "image/png": "[encoded data removed]",
            "text/plain": [
              "<Figure size 864x216 with 4 Axes>"
            ]
          },
          "metadata": {
            "tags": []
          }
        },
        {
          "output_type": "display_data",
          "data": {
            "image/png": "[encoded data removed]",
            "text/plain": [
              "<Figure size 864x216 with 4 Axes>"
            ]
          },
          "metadata": {
            "tags": []
          }
        }
      ]
    }
  ]
}